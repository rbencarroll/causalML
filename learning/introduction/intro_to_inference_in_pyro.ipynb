{
 "cells": [
  {
   "cell_type": "markdown",
   "metadata": {},
   "source": [
    "# Introduction to Inference in Pyro"
   ]
  },
  {
   "cell_type": "code",
   "execution_count": 3,
   "metadata": {},
   "outputs": [],
   "source": [
    "import matplotlib.pyplot as plt\n",
    "import numpy as np\n",
    "import torch\n",
    "import pyro\n",
    "import pyro.infer\n",
    "import pyro.optim\n",
    "import pyro.distributions as dist"
   ]
  },
  {
   "cell_type": "code",
   "execution_count": 4,
   "metadata": {},
   "outputs": [],
   "source": [
    "pyro.set_rng_seed(101)"
   ]
  },
  {
   "cell_type": "code",
   "execution_count": 5,
   "metadata": {},
   "outputs": [],
   "source": [
    "def scale(guess):\n",
    "    weight = pyro.sample('weight', dist.Normal(guess, 1.0))\n",
    "    return pyro.sample('measurement', dist.Normal(weight, 0.75))"
   ]
  },
  {
   "cell_type": "code",
   "execution_count": 6,
   "metadata": {},
   "outputs": [
    {
     "data": {
      "text/plain": [
       "tensor(7.9981)"
      ]
     },
     "execution_count": 6,
     "metadata": {},
     "output_type": "execute_result"
    }
   ],
   "source": [
    "scale(10.)"
   ]
  },
  {
   "cell_type": "markdown",
   "metadata": {},
   "source": [
    "We are working working toward P(weight|guess, measurement=9.5) "
   ]
  },
  {
   "cell_type": "code",
   "execution_count": 7,
   "metadata": {},
   "outputs": [],
   "source": [
    "conditioned_scale = pyro.condition(scale, data={'measurement': 9.5})"
   ]
  },
  {
   "cell_type": "code",
   "execution_count": 8,
   "metadata": {},
   "outputs": [
    {
     "data": {
      "text/plain": [
       "9.5"
      ]
     },
     "execution_count": 8,
     "metadata": {},
     "output_type": "execute_result"
    }
   ],
   "source": [
    "conditioned_scale(10.)"
   ]
  },
  {
   "cell_type": "code",
   "execution_count": 9,
   "metadata": {},
   "outputs": [],
   "source": [
    "def deferred_conditioned_scale(measurement, guess):\n",
    "    return pyro.condition(scale, data={'measurement': measurement})(guess)"
   ]
  },
  {
   "cell_type": "code",
   "execution_count": 10,
   "metadata": {},
   "outputs": [
    {
     "data": {
      "text/plain": [
       "9.5"
      ]
     },
     "execution_count": 10,
     "metadata": {},
     "output_type": "execute_result"
    }
   ],
   "source": [
    "deferred_conditioned_scale(9.5, 10.)"
   ]
  },
  {
   "cell_type": "markdown",
   "metadata": {},
   "source": [
    "In some cases it might be more convenient to pass observations directly to individual `pyro.sample` statements instead of \n",
    "using `pyro.condition`. The optional `obs` keyword argument is reserved by `pyro.sample` for that purpose."
   ]
  },
  {
   "cell_type": "code",
   "execution_count": 11,
   "metadata": {},
   "outputs": [],
   "source": [
    "def scale_obs(guess): # equivalent to conditioned_scale above\n",
    "    weight = pyro.sample('weight', dist.Normal(guess, 1.))\n",
    "    # here we condition on measurement == 9.5\n",
    "    return pyro.sample('measurement', dist.Normal(weight, 0.75), obs=9.5)"
   ]
  },
  {
   "cell_type": "code",
   "execution_count": 12,
   "metadata": {},
   "outputs": [
    {
     "name": "stderr",
     "output_type": "stream",
     "text": [
      "/home/ben/.local/share/virtualenvs/causalML-xeA8SeKA/lib/python3.8/site-packages/pyro/primitives.py:85: RuntimeWarning: trying to observe a value outside of inference at measurement\n",
      "  warnings.warn(\"trying to observe a value outside of inference at \" + name,\n"
     ]
    },
    {
     "data": {
      "text/plain": [
       "9.5"
      ]
     },
     "execution_count": 12,
     "metadata": {},
     "output_type": "execute_result"
    }
   ],
   "source": [
    "scale_obs(10.)"
   ]
  },
  {
   "cell_type": "markdown",
   "metadata": {},
   "source": [
    "Finally, in addition to `pyro.condition` for incorporating observations, Pyro also contains `pyro.do`,\n",
    "and implementation of Pearl's `do`-operator used for causal inference with an identical interfact to `pyro.condition`.\n",
    "`condition` and `do` can be mixed and composed freely, making Pyro a powerful tool for model-based causal inference."
   ]
  },
  {
   "cell_type": "markdown",
   "metadata": {},
   "source": [
    "# Flexible Approximate Inference With Guide Functions"
   ]
  },
  {
   "cell_type": "markdown",
   "metadata": {},
   "source": [
    "Lets return to `conditioned_scale`. Now that we have conditioned on an observation of `measurement`, we can use Pyro's approximate\n",
    "inference algorithms to estimate the distribution over `weight` given `guess` and `measurement == data`\n",
    "\n",
    "Inference algorithms in Pyro, such as `pyro.infer.SVI`, allow us to use arbitrary stochastic functions, which we will call _guide functions_ or _guides_, as approximate posterior distributions. Guide functions must satisfy these two criteria to be valid approximations for a particular model: 1. all unobserved (i.e. not conditioned) sample statements that appear in the model appear in the guide. 2. the guide has the same input signature as the model (i.e. takes the same arguments)\n",
    "\n",
    "Guide functions can serve as programmable, data-dependent proposal distributions for importance sampling, rejection sampling, sequential Monte Carlo, MCMC, and independent Metropolis-Hastings, and as variational distributions or inference networks for stochastic variational inference. Currently, importance sampling, MCMC, and stochastic variational inference are implemented in Pyro, and we plan to add other algorithms in the future.\n",
    "\n",
    "Although the precise meaning of the guide is different across different inference algorithms, the guide function should generally be chosen so that, in principle, it is flexible enough to closely approximate the distribution over all unobserved `sample` statements in the model.\n",
    "\n",
    "In the case of `scale`, it turns out that the true posterior distribution over `weight` given `guess` and `measurement` is actually Normal(9.14, 0.6). As the model is quite simple, we are able to determine our posterior distribution of interest analytically."
   ]
  },
  {
   "cell_type": "code",
   "execution_count": 13,
   "metadata": {},
   "outputs": [],
   "source": [
    "def perfect_guide(guess):\n",
    "    loc = (0.75**2 * guess + 9.5) / (1. + 0.75**2) # 9.14\n",
    "    scale = np.sqrt(0.75**2/(1 + 0.75**2)) # 0.6\n",
    "    return pyro.sample('weight', dist.Normal(loc, scale))"
   ]
  },
  {
   "cell_type": "code",
   "execution_count": 14,
   "metadata": {},
   "outputs": [
    {
     "data": {
      "text/plain": [
       "tensor(9.8620)"
      ]
     },
     "execution_count": 14,
     "metadata": {},
     "output_type": "execute_result"
    }
   ],
   "source": [
    "perfect_guide(9.5)"
   ]
  },
  {
   "cell_type": "markdown",
   "metadata": {},
   "source": [
    "# Parameterized Stochastic Functions and Variational Inference"
   ]
  },
  {
   "cell_type": "markdown",
   "metadata": {},
   "source": [
    "Although we could write out the exact posterior distribution for `scale`, in general it is intractable to specify a guide that is a good approximation to the posterior distribution of an arbitrary conditioned stochastic function. In fact, stochastic function for which we can determine the true posterior exactly are the exception rather than the rule. For example, even a version of our `scale` example with a nonlinear function in the middle may be intractable.\n",
    "\n",
    "```python\n",
    "def intractable_scale(guess):\n",
    "    weight = pyro.sample(\"weight\", dist.Normal(guess, 1.))\n",
    "    return pyro.sample('measurement', dist.Normal(some_nonlinear_function(weight), 0.75))\n",
    "```\n",
    "\n",
    "What we can do instead is use the top-level function `pyro.param` to specify a _family_ of guides indexed by named parameters, and search for the member of that famiily that is the best approximation according to some loss function. This approach to approximate posterior inference is called _variational inference_.\n",
    "\n",
    "`pyro.param` is a frontend for Pyro's key-value _parameter store_. Like `pyro.sample`, `pyro.param` is always called with a name as its first argument. The first time `pyro.param` is called with a particular name, it stores its argument in the paramter store and then returns that value. After than, when it is called with that name, it returns the value from the parameter store regardless of any other arguments. It is similar to `simple_param_store.setdefault` here, but with some additional tracking and management functionality.\n",
    "\n",
    "```python\n",
    "simple_param_store = {}\n",
    "a = simple_param_store.setdefault('a', torch.randn(1))\n",
    "```\n",
    "\n",
    "For example, we can paramterize `a` and `b`  in `scale_posterior_guide` instead of specifying them by hand:"
   ]
  },
  {
   "cell_type": "code",
   "execution_count": 15,
   "metadata": {},
   "outputs": [],
   "source": [
    "def scale_parameterized_guide(guess):\n",
    "    a = pyro.param('a', torch.tensor(guess))\n",
    "    b = pyro.param('b', torch.tensor(1.))\n",
    "    return pyro.sample('weight', dist.Normal(a, torch.abs(b)))"
   ]
  },
  {
   "cell_type": "code",
   "execution_count": 16,
   "metadata": {},
   "outputs": [
    {
     "data": {
      "text/plain": [
       "tensor(9.2480, grad_fn=<AddBackward0>)"
      ]
     },
     "execution_count": 16,
     "metadata": {},
     "output_type": "execute_result"
    }
   ],
   "source": [
    "scale_parameterized_guide(9.5)"
   ]
  },
  {
   "cell_type": "markdown",
   "metadata": {},
   "source": [
    "As an aside, note that in `scale_parameterized_guide`, we had to apply `torch.abs` to parameter `b`, because the standard deviation of a normal distribution has to be positive; similar restrictions apply to parameters of many other distributions. The PyTorch distribution library which Pyro is built on, includes a constraints module for enforcing such restrictions, and applying constriants to Pyro parameters is as easy as passing the relevant `constraint` object to `pyro.param`:"
   ]
  },
  {
   "cell_type": "code",
   "execution_count": 17,
   "metadata": {},
   "outputs": [],
   "source": [
    "from torch.distributions import constraints\n",
    "def scale_parameterized_guide_constraint(guess):\n",
    "    a = pyro.param('a', torch.tensor(guess))\n",
    "    b = pyro.param('b', torch.tensor(1.), constraint=constraints.positive)\n",
    "    return pyro.sample('weight', dist.Normal(a, b)) # no more abs"
   ]
  },
  {
   "cell_type": "markdown",
   "metadata": {},
   "source": [
    "Pyro is built to enable _stochastic variational inference_, a powerful and widely applicable class of variational inference algorithms with three key characteristics:\n",
    "1. Parameters are always real-valued tensors.\n",
    "2. We compute Monte Carlo estimates of a loss function from samples of execution histories of the model and guide.\n",
    "3. We used stochastic gradient descent to search for the optimal parameters.\n",
    "\n",
    "Combining stochastic gradient descent with PyTorch's GPU-accelerated tensor math and automatic differentiation allows us to scale variational inference to very high-dimensional parameter spaces and massive datasets.\n",
    "\n",
    "Pyro's SVI functionality is described in detail in the SVI tutorial. Here is a very simple example applying it to `scale`."
   ]
  },
  {
   "cell_type": "code",
   "execution_count": 21,
   "metadata": {},
   "outputs": [
    {
     "name": "stdout",
     "output_type": "stream",
     "text": [
      "a = 9.105514526367188\n",
      "b = 0.6252198219299316\n"
     ]
    },
    {
     "data": {
      "image/png": "[encoded data removed]",
      "text/plain": [
       "<Figure size 432x288 with 1 Axes>"
      ]
     },
     "metadata": {
      "needs_background": "light"
     },
     "output_type": "display_data"
    }
   ],
   "source": [
    "guess = 8.5\n",
    "\n",
    "pyro.clear_param_store()\n",
    "svi = pyro.infer.SVI(\n",
    "    model=conditioned_scale,\n",
    "    guide=scale_parameterized_guide,\n",
    "    optim=pyro.optim.SGD({'lr':0.001, 'momentum': 0.1}),\n",
    "    loss = pyro.infer.Trace_ELBO()\n",
    ")\n",
    "losses, a, b = [], [], []\n",
    "num_steps = 2_500\n",
    "for t in range(num_steps):\n",
    "    losses.append(svi.step(guess))\n",
    "    a.append(pyro.param('a').item())\n",
    "    b.append(pyro.param('b').item())\n",
    "plt.plot(losses)\n",
    "plt.title('ELBO')\n",
    "plt.xlabel('step')\n",
    "plt.ylabel('loss')\n",
    "print('a = {}'.format(pyro.param('a').item()))\n",
    "print('b = {}'.format(pyro.param('b').item()))"
   ]
  },
  {
   "cell_type": "code",
   "execution_count": 22,
   "metadata": {},
   "outputs": [
    {
     "data": {
      "image/png": "[encoded data removed]",
      "text/plain": [
       "<Figure size 432x288 with 2 Axes>"
      ]
     },
     "metadata": {
      "needs_background": "light"
     },
     "output_type": "display_data"
    }
   ],
   "source": [
    "plt.subplot(1,2,1)\n",
    "plt.plot([0,num_steps],[9.14,9.14], 'k:')\n",
    "plt.plot(a)\n",
    "plt.ylabel('a')\n",
    "\n",
    "plt.subplot(1,2,2)\n",
    "plt.ylabel('b')\n",
    "plt.plot([0,num_steps],[0.6,0.6], 'k:')\n",
    "plt.plot(b)\n",
    "plt.tight_layout()\n"
   ]
  },
  {
   "cell_type": "code",
   "execution_count": null,
   "metadata": {},
   "outputs": [],
   "source": []
  },
  {
   "cell_type": "code",
   "execution_count": null,
   "metadata": {},
   "outputs": [],
   "source": []
  },
  {
   "cell_type": "code",
   "execution_count": null,
   "metadata": {},
   "outputs": [],
   "source": []
  }
 ],
 "metadata": {
  "kernelspec": {
   "display_name": "causalML-xeA8SeKA",
   "language": "python",
   "name": "causalml-xea8seka"
  },
  "language_info": {
   "codemirror_mode": {
    "name": "ipython",
    "version": 3
   },
   "file_extension": ".py",
   "mimetype": "text/x-python",
   "name": "python",
   "nbconvert_exporter": "python",
   "pygments_lexer": "ipython3",
   "version": "3.8.2"
  }
 },
 "nbformat": 4,
 "nbformat_minor": 4
}
