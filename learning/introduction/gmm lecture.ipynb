{
 "cells": [
  {
   "cell_type": "code",
   "execution_count": 17,
   "metadata": {},
   "outputs": [],
   "source": [
    "import os\n",
    "from collections import defaultdict\n",
    "import torch\n",
    "import numpy as np\n",
    "import scipy.stats\n",
    "from torch.distributions import constraints\n",
    "from matplotlib import pyplot\n",
    "%matplotlib inline\n",
    "\n",
    "import pyro\n",
    "import pyro.distributions as dist\n",
    "from pyro import poutine\n",
    "from pyro.infer.autoguide import AutoDelta\n",
    "from pyro.optim import Adam\n",
    "from pyro.infer import SVI, TraceEnum_ELBO, config_enumerate, infer_discrete\n",
    "\n",
    "smoke_test = (\"CI\" in os.environ)\n",
    "#assert pyro.__version__.startswith('1.2.0')\n",
    "pyro.enable_validation(True)"
   ]
  },
  {
   "cell_type": "code",
   "execution_count": 20,
   "metadata": {},
   "outputs": [],
   "source": [
    "K = 2\n",
    "@config_enumerate\n",
    "def model(N):\n",
    "    # global variables\n",
    "    α = 0.5\n",
    "    θ = pyro.sample(\"θ\", dist.Dirichlet(α * torch.ones(K)))\n",
    "    σ = 1.0\n",
    "    σ_0 = 10.\n",
    "    with pyro.plate('components', K):\n",
    "        μ = pyro.sample('μ', dist.Normal(0., σ_0))\n",
    "    \n",
    "    with pyro.plate('data', N):\n",
    "        Z = pyro.sample(\"Z\", dist.Categorical(θ))\n",
    "        X = pyro.sample(\"X\", dist.Normal(μ[Z], σ))\n",
    "    return {'X': X, 'Z': Z}"
   ]
  },
  {
   "cell_type": "code",
   "execution_count": 21,
   "metadata": {},
   "outputs": [
    {
     "data": {
      "text/plain": [
       "{'X': tensor([14.0047, 13.8747, 13.0961, 12.5326]), 'Z': tensor([0, 0, 0, 0])}"
      ]
     },
     "execution_count": 21,
     "metadata": {},
     "output_type": "execute_result"
    }
   ],
   "source": [
    "model(4)"
   ]
  },
  {
   "cell_type": "markdown",
   "metadata": {},
   "source": [
    "# Interventions"
   ]
  },
  {
   "cell_type": "markdown",
   "metadata": {},
   "source": [
    "Since this is a causal model, we can apply interventions. Pyro has a pyro.do function that will take in a model, and return a modified model that reflects the intervention. It does this by replacing whatever sampling statement was used to generate the intervention target in the model iwth a statement that fixes that value to the intervention value."
   ]
  },
  {
   "cell_type": "markdown",
   "metadata": {},
   "source": [
    "In this code, we set the values of Z to [0,1,1,0,1,1,1,1,1,1], then generate from the model"
   ]
  },
  {
   "cell_type": "code",
   "execution_count": 22,
   "metadata": {},
   "outputs": [
    {
     "data": {
      "text/plain": [
       "{'X': tensor([0.7632, 7.0987, 5.4986, 0.4045, 5.7708, 6.0320, 4.2104, 5.4908, 6.3008,\n",
       "         5.5077]),\n",
       " 'Z': tensor([0, 1, 1, 0, 1, 1, 1, 1, 1, 1])}"
      ]
     },
     "execution_count": 22,
     "metadata": {},
     "output_type": "execute_result"
    }
   ],
   "source": [
    "intervention = torch.tensor([0,1,1,0,1, 1,1,1,1,1])\n",
    "intervention_model = pyro.do(model, data={\"Z\": intervention})\n",
    "intervention_model(10)"
   ]
  },
  {
   "cell_type": "markdown",
   "metadata": {},
   "source": [
    "# Training the Greeks"
   ]
  },
  {
   "cell_type": "markdown",
   "metadata": {},
   "source": [
    "In latent variable modeling, the modeler generally doesn't know the values of the Greek variables. In our case, we used probability distribution to capture that uncertainty.\n",
    "\n",
    "In practice, modelers try to infer their values from training data (i.e. the values of Zs and Xs).In other words, we treat the Greeks as weights in a training step.\n",
    "\n",
    "There are several ways to learn these parameters from data. Getting maximum likelihood estimates using expectation maximization is a common way. Here, since we are thinking as Bayesians, we use Bayesian inference.\n",
    "\n",
    "... SVI...\n",
    "\n",
    "This implementation finds MAP estimates."
   ]
  },
  {
   "cell_type": "code",
   "execution_count": 52,
   "metadata": {},
   "outputs": [],
   "source": [
    "data = torch.tensor([0., 1., 10., 11., 12.])\n",
    "N = len(data)\n",
    "K = 2 # fixed number of components\n",
    "evidence_model = pyro.condition(model, data={'X': data})\n",
    "\n",
    "optim = Adam({'lr': 0.1, 'betas': [0.8, 0.99]})\n",
    "elbo = TraceEnum_ELBO(max_plate_nesting=1)\n",
    "\n",
    "def init_loc_fn(site):\n",
    "    if site['name'] == 'θ':\n",
    "        # initialize the weights to uniform\n",
    "        return torch.ones(K) / K\n",
    "    if site['name'] == 'μ':\n",
    "        return data[torch.multinomial(torch.ones(N)/N, K)]\n",
    "    raise ValueError(site['name'])"
   ]
  },
  {
   "cell_type": "code",
   "execution_count": 53,
   "metadata": {},
   "outputs": [],
   "source": [
    "def initialize(seed):\n",
    "    global global_guide, svi\n",
    "    pyro.set_rng_seed(seed)\n",
    "    pyro.clear_param_store()\n",
    "    global_guide = AutoDelta(poutine.block(evidence_model, expose=['θ', 'μ']),\n",
    "                            init_loc_fn=init_loc_fn)\n",
    "    svi = SVI(evidence_model, global_guide, optim, loss=elbo)\n",
    "    return svi.loss(evidence_model, global_guide, N)\n"
   ]
  },
  {
   "cell_type": "code",
   "execution_count": 61,
   "metadata": {
    "scrolled": true
   },
   "outputs": [
    {
     "name": "stdout",
     "output_type": "stream",
     "text": [
      "0 106.22805786132812\n",
      "1 165.01177978515625\n",
      "2 18.675058364868164\n",
      "3 18.455059051513672\n",
      "4 105.91038513183594\n",
      "5 17.065059661865234\n",
      "6 106.22805786132812\n",
      "7 18.460060119628906\n",
      "8 105.91038513183594\n",
      "9 18.680057525634766\n",
      "10 17.065059661865234\n",
      "11 18.675058364868164\n",
      "12 105.91038513183594\n",
      "13 17.065059661865234\n",
      "14 18.460060119628906\n",
      "15 18.460060119628906\n",
      "16 18.460060119628906\n",
      "17 105.91038513183594\n",
      "18 18.675058364868164\n",
      "19 17.06005859375\n",
      "20 105.91038513183594\n",
      "21 17.06005859375\n",
      "22 18.680057525634766\n",
      "23 18.460060119628906\n",
      "24 17.06005859375\n",
      "25 17.06005859375\n",
      "26 105.91038513183594\n",
      "27 18.680057525634766\n",
      "28 18.455059051513672\n",
      "29 18.680057525634766\n",
      "30 18.680057525634766\n",
      "31 18.675058364868164\n",
      "32 18.455059051513672\n",
      "33 106.22805786132812\n",
      "34 106.22805786132812\n",
      "35 18.455059051513672\n",
      "36 18.675058364868164\n",
      "37 18.460060119628906\n",
      "38 17.06005859375\n",
      "39 165.01177978515625\n",
      "40 18.680057525634766\n",
      "41 18.680057525634766\n",
      "42 165.01177978515625\n",
      "43 17.065059661865234\n",
      "44 105.91038513183594\n",
      "45 18.460060119628906\n",
      "46 165.01177978515625\n",
      "47 105.91038513183594\n",
      "48 126.13044738769531\n",
      "49 18.680057525634766\n",
      "50 18.675058364868164\n",
      "51 106.22805786132812\n",
      "52 17.065059661865234\n",
      "53 18.680057525634766\n",
      "54 106.22805786132812\n",
      "55 126.13044738769531\n",
      "56 126.13044738769531\n",
      "57 18.675058364868164\n",
      "58 17.06005859375\n",
      "59 18.460060119628906\n",
      "60 18.675058364868164\n",
      "61 18.460060119628906\n",
      "62 17.06005859375\n",
      "63 105.91038513183594\n",
      "64 18.460060119628906\n",
      "65 17.065059661865234\n",
      "66 126.13044738769531\n",
      "67 126.13044738769531\n",
      "68 18.675058364868164\n",
      "69 126.13044738769531\n",
      "70 105.91038513183594\n",
      "71 18.675058364868164\n",
      "72 105.91038513183594\n",
      "73 165.01177978515625\n",
      "74 18.675058364868164\n",
      "75 165.01177978515625\n",
      "76 18.460060119628906\n",
      "77 165.01177978515625\n",
      "78 105.91038513183594\n",
      "79 17.065059661865234\n",
      "80 18.680057525634766\n",
      "81 18.675058364868164\n",
      "82 17.06005859375\n",
      "83 18.460060119628906\n",
      "84 18.460060119628906\n",
      "85 18.460060119628906\n",
      "86 18.675058364868164\n",
      "87 17.06005859375\n",
      "88 17.06005859375\n",
      "89 165.01177978515625\n",
      "90 106.22805786132812\n",
      "91 126.13044738769531\n",
      "92 165.01177978515625\n",
      "93 106.22805786132812\n",
      "94 17.065059661865234\n",
      "95 105.91038513183594\n",
      "96 105.91038513183594\n",
      "97 165.01177978515625\n",
      "98 105.91038513183594\n",
      "99 106.22805786132812\n"
     ]
    }
   ],
   "source": [
    "for seed in range(100):\n",
    "    print(seed, initialize(seed))"
   ]
  },
  {
   "cell_type": "code",
   "execution_count": 54,
   "metadata": {},
   "outputs": [],
   "source": [
    "loss, seed = min((initialize(seed), seed) for seed in range(100))"
   ]
  },
  {
   "cell_type": "code",
   "execution_count": 55,
   "metadata": {},
   "outputs": [
    {
     "data": {
      "text/plain": [
       "17.06005859375"
      ]
     },
     "execution_count": 55,
     "metadata": {},
     "output_type": "execute_result"
    }
   ],
   "source": [
    "initialize(seed)"
   ]
  },
  {
   "cell_type": "code",
   "execution_count": 56,
   "metadata": {},
   "outputs": [
    {
     "name": "stdout",
     "output_type": "stream",
     "text": [
      "seed = 19, initial loss = 17.06005859375\n"
     ]
    }
   ],
   "source": [
    "print('seed = {}, initial loss = {}'.format(seed, loss))"
   ]
  },
  {
   "cell_type": "code",
   "execution_count": 57,
   "metadata": {},
   "outputs": [],
   "source": [
    "# register hooks to monitor gradient norms\n",
    "gradient_norms = defaultdict(list)\n",
    "for name, value in pyro.get_param_store().named_parameters():\n",
    "    value.register_hook(lambda g, name=name: gradient_norms[name].append(g.norm().item()))\n",
    "    "
   ]
  },
  {
   "cell_type": "code",
   "execution_count": 58,
   "metadata": {},
   "outputs": [
    {
     "name": "stdout",
     "output_type": "stream",
     "text": [
      "\n",
      "...................................................................................................\n",
      "..................................................................................................."
     ]
    }
   ],
   "source": [
    "losses = []\n",
    "for i in range(200):\n",
    "    loss = svi.step(N)\n",
    "    losses.append(loss)\n",
    "    print('.' if i%100 else '\\n', end='')\n"
   ]
  },
  {
   "cell_type": "code",
   "execution_count": 59,
   "metadata": {},
   "outputs": [],
   "source": [
    "map_estimates = global_guide(N)"
   ]
  },
  {
   "cell_type": "code",
   "execution_count": 60,
   "metadata": {
    "scrolled": true
   },
   "outputs": [
    {
     "name": "stdout",
     "output_type": "stream",
     "text": [
      "\n",
      "\n",
      "θ = [0.625 0.375]\n",
      "μ = [10.96146     0.49751246]\n"
     ]
    }
   ],
   "source": [
    "θ = map_estimates['θ']\n",
    "μ = map_estimates['μ']\n",
    "print('\\n')\n",
    "print('θ = {}'.format(θ.data.numpy()))\n",
    "print('μ = {}'.format(μ.data.numpy()))"
   ]
  },
  {
   "cell_type": "code",
   "execution_count": 63,
   "metadata": {},
   "outputs": [],
   "source": [
    "import matplotlib.pyplot as plt"
   ]
  },
  {
   "cell_type": "code",
   "execution_count": 64,
   "metadata": {},
   "outputs": [
    {
     "data": {
      "image/png": "[encoded data removed]",
      "text/plain": [
       "<Figure size 1000x300 with 1 Axes>"
      ]
     },
     "metadata": {},
     "output_type": "display_data"
    }
   ],
   "source": [
    "plt.figure(figsize=(10,3), dpi=100).set_facecolor('white')\n",
    "plt.plot(losses)\n",
    "plt.xlabel('iters')\n",
    "plt.ylabel('loss')\n",
    "plt.yscale('log')\n",
    "plt.title('Convergence of SVI');"
   ]
  },
  {
   "cell_type": "code",
   "execution_count": 68,
   "metadata": {},
   "outputs": [
    {
     "data": {
      "text/plain": [
       "Text(0, 0.5, 'probability density')"
      ]
     },
     "execution_count": 68,
     "metadata": {},
     "output_type": "execute_result"
    },
    {
     "data": {
      "image/png": "[encoded data removed]",
      "text/plain": [
       "<Figure size 1000x400 with 1 Axes>"
      ]
     },
     "metadata": {},
     "output_type": "display_data"
    }
   ],
   "source": [
    "X = np.arange(-3,15,0.1)\n",
    "Y1 = θ[0].item() * scipy.stats.norm.pdf((X - μ[0].item()))\n",
    "Y2 = θ[1].item() * scipy.stats.norm.pdf((X - μ[1].item()))\n",
    "\n",
    "plt.figure(figsize=(10, 4), dpi=100).set_facecolor('white')\n",
    "plt.plot(X, Y1, 'r-')\n",
    "plt.plot(X, Y2, 'b-')\n",
    "plt.plot(X, Y1 + Y2, 'k--')\n",
    "plt.plot(data.data.numpy(), np.zeros(len(data)), 'k*')\n",
    "plt.title('Density of two-component mixture model')\n",
    "plt.ylabel('probability density')"
   ]
  },
  {
   "cell_type": "code",
   "execution_count": null,
   "metadata": {},
   "outputs": [],
   "source": []
  }
 ],
 "metadata": {
  "kernelspec": {
   "display_name": "Python 3",
   "language": "python",
   "name": "python3"
  },
  "language_info": {
   "codemirror_mode": {
    "name": "ipython",
    "version": 3
   },
   "file_extension": ".py",
   "mimetype": "text/x-python",
   "name": "python",
   "nbconvert_exporter": "python",
   "pygments_lexer": "ipython3",
   "version": "3.8.2"
  }
 },
 "nbformat": 4,
 "nbformat_minor": 4
}
